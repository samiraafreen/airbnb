{
 "cells": [
  {
   "cell_type": "code",
   "execution_count": 16,
   "metadata": {},
   "outputs": [],
   "source": [
    "import numpy\n",
    "import pandas as pd\n",
    "# one-hot encoding categorical variables\n",
    "from sklearn.preprocessing import OneHotEncoder\n",
    "from sklearn.model_selection import train_test_split\n",
    "from sklearn.ensemble import RandomForestRegressor\n",
    "from sklearn.metrics import mean_squared_error\n",
    "# for k-fold validation\n",
    "from sklearn.pipeline import Pipeline\n",
    "from sklearn.impute import SimpleImputer\n",
    "import warnings\n",
    "warnings.filterwarnings('ignore')\n",
    "# for visualization\n",
    "import matplotlib.pyplot as plt\n",
    "import seaborn as sns\n",
    "%matplotlib inline "
   ]
  },
  {
   "cell_type": "code",
   "execution_count": 4,
   "metadata": {},
   "outputs": [
    {
     "data": {
      "text/html": [
       "<div>\n",
       "<style scoped>\n",
       "    .dataframe tbody tr th:only-of-type {\n",
       "        vertical-align: middle;\n",
       "    }\n",
       "\n",
       "    .dataframe tbody tr th {\n",
       "        vertical-align: top;\n",
       "    }\n",
       "\n",
       "    .dataframe thead th {\n",
       "        text-align: right;\n",
       "    }\n",
       "</style>\n",
       "<table border=\"1\" class=\"dataframe\">\n",
       "  <thead>\n",
       "    <tr style=\"text-align: right;\">\n",
       "      <th></th>\n",
       "      <th>id</th>\n",
       "      <th>name</th>\n",
       "      <th>host_id</th>\n",
       "      <th>host_name</th>\n",
       "      <th>neighbourhood_group</th>\n",
       "      <th>neighbourhood</th>\n",
       "      <th>latitude</th>\n",
       "      <th>longitude</th>\n",
       "      <th>room_type</th>\n",
       "      <th>price</th>\n",
       "      <th>minimum_nights</th>\n",
       "      <th>number_of_reviews</th>\n",
       "      <th>last_review</th>\n",
       "      <th>reviews_per_month</th>\n",
       "      <th>calculated_host_listings_count</th>\n",
       "      <th>availability_365</th>\n",
       "      <th>city</th>\n",
       "    </tr>\n",
       "  </thead>\n",
       "  <tbody>\n",
       "    <tr>\n",
       "      <th>0</th>\n",
       "      <td>38585</td>\n",
       "      <td>Charming Victorian home - twin beds + breakfast</td>\n",
       "      <td>165529</td>\n",
       "      <td>Evelyne</td>\n",
       "      <td>NaN</td>\n",
       "      <td>28804</td>\n",
       "      <td>35.65146</td>\n",
       "      <td>-82.62792</td>\n",
       "      <td>Private room</td>\n",
       "      <td>60</td>\n",
       "      <td>1</td>\n",
       "      <td>138</td>\n",
       "      <td>16/02/20</td>\n",
       "      <td>1.14</td>\n",
       "      <td>1</td>\n",
       "      <td>0</td>\n",
       "      <td>Asheville</td>\n",
       "    </tr>\n",
       "    <tr>\n",
       "      <th>1</th>\n",
       "      <td>80905</td>\n",
       "      <td>French Chic Loft</td>\n",
       "      <td>427027</td>\n",
       "      <td>Celeste</td>\n",
       "      <td>NaN</td>\n",
       "      <td>28801</td>\n",
       "      <td>35.59779</td>\n",
       "      <td>-82.55540</td>\n",
       "      <td>Entire home/apt</td>\n",
       "      <td>470</td>\n",
       "      <td>1</td>\n",
       "      <td>114</td>\n",
       "      <td>07/09/20</td>\n",
       "      <td>1.03</td>\n",
       "      <td>11</td>\n",
       "      <td>288</td>\n",
       "      <td>Asheville</td>\n",
       "    </tr>\n",
       "    <tr>\n",
       "      <th>2</th>\n",
       "      <td>108061</td>\n",
       "      <td>Walk to stores/parks/downtown. Fenced yard/Pet...</td>\n",
       "      <td>320564</td>\n",
       "      <td>Lisa</td>\n",
       "      <td>NaN</td>\n",
       "      <td>28801</td>\n",
       "      <td>35.60670</td>\n",
       "      <td>-82.55563</td>\n",
       "      <td>Entire home/apt</td>\n",
       "      <td>75</td>\n",
       "      <td>30</td>\n",
       "      <td>89</td>\n",
       "      <td>30/11/19</td>\n",
       "      <td>0.81</td>\n",
       "      <td>2</td>\n",
       "      <td>298</td>\n",
       "      <td>Asheville</td>\n",
       "    </tr>\n",
       "  </tbody>\n",
       "</table>\n",
       "</div>"
      ],
      "text/plain": [
       "       id                                               name  host_id  \\\n",
       "0   38585    Charming Victorian home - twin beds + breakfast   165529   \n",
       "1   80905                                   French Chic Loft   427027   \n",
       "2  108061  Walk to stores/parks/downtown. Fenced yard/Pet...   320564   \n",
       "\n",
       "  host_name neighbourhood_group neighbourhood  latitude  longitude  \\\n",
       "0   Evelyne                 NaN         28804  35.65146  -82.62792   \n",
       "1   Celeste                 NaN         28801  35.59779  -82.55540   \n",
       "2      Lisa                 NaN         28801  35.60670  -82.55563   \n",
       "\n",
       "         room_type  price  minimum_nights  number_of_reviews last_review  \\\n",
       "0     Private room     60               1                138    16/02/20   \n",
       "1  Entire home/apt    470               1                114    07/09/20   \n",
       "2  Entire home/apt     75              30                 89    30/11/19   \n",
       "\n",
       "   reviews_per_month  calculated_host_listings_count  availability_365  \\\n",
       "0               1.14                               1                 0   \n",
       "1               1.03                              11               288   \n",
       "2               0.81                               2               298   \n",
       "\n",
       "        city  \n",
       "0  Asheville  \n",
       "1  Asheville  \n",
       "2  Asheville  "
      ]
     },
     "execution_count": 4,
     "metadata": {},
     "output_type": "execute_result"
    }
   ],
   "source": [
    "df = pd.read_csv('AB_US_2020.csv')\n",
    "df.head(3)"
   ]
  },
  {
   "cell_type": "code",
   "execution_count": null,
   "metadata": {},
   "outputs": [],
   "source": []
  },
  {
   "cell_type": "code",
   "execution_count": 28,
   "metadata": {},
   "outputs": [
    {
     "data": {
      "text/plain": [
       "<seaborn.axisgrid.FacetGrid at 0x7fbacf3621f0>"
      ]
     },
     "execution_count": 28,
     "metadata": {},
     "output_type": "execute_result"
    },
    {
     "data": {
      "image/png": "[encoded data removed]",
      "text/plain": [
       "<Figure size 360x360 with 1 Axes>"
      ]
     },
     "metadata": {
      "needs_background": "light"
     },
     "output_type": "display_data"
    }
   ],
   "source": [
    "df['room_type'] = df['room_type'].astype('category')\n",
    "sns.catplot(x='room_type', y='price', kind='box', data=df)"
   ]
  },
  {
   "cell_type": "markdown",
   "metadata": {},
   "source": [
    "## One-Hot Encoding (Random Forest)"
   ]
  },
  {
   "cell_type": "code",
   "execution_count": 17,
   "metadata": {},
   "outputs": [],
   "source": [
    "new_features = ['latitude', 'longitude','room_type','number_of_reviews','availability_365']\n",
    "X = df[new_features]\n",
    "y = df['price']\n",
    "\n",
    "# Divide data into training and validation subsets\n",
    "X_train, X_valid, y_train, y_valid = train_test_split(X, y, train_size=0.8, test_size=0.2,\n",
    "                                                                random_state=0)\n",
    "# Apply one-hot encoder to each column with categorical data\n",
    "OH_encoder = OneHotEncoder(handle_unknown='ignore', sparse=False)\n",
    "OH_cols_train = pd.DataFrame(OH_encoder.fit_transform(X_train[['room_type']]))\n",
    "OH_cols_valid = pd.DataFrame(OH_encoder.transform(X_valid[['room_type']]))\n",
    "\n",
    "# One-hot encoding removed index; put it back\n",
    "OH_cols_train.index = X_train.index\n",
    "OH_cols_valid.index = X_valid.index\n",
    "\n",
    "# Remove categorical columns (will replace with one-hot encoding)\n",
    "num_X_train = X_train.drop(['room_type'], axis=1)\n",
    "num_X_valid = X_valid.drop(['room_type'], axis=1)\n",
    "\n",
    "# Add one-hot encoded columns to numerical features\n",
    "OH_X_train = pd.concat([num_X_train, OH_cols_train], axis=1)\n",
    "OH_X_valid = pd.concat([num_X_valid, OH_cols_valid], axis=1)"
   ]
  },
  {
   "cell_type": "code",
   "execution_count": null,
   "metadata": {},
   "outputs": [],
   "source": [
    "print(\"RMSE from Approach 3 (One-Hot Encoding):\") \n",
    "forest_model = RandomForestRegressor(n_estimators=500, random_state=1)\n",
    "forest_model.fit(OH_X_train, y_train)\n",
    "\n",
    "# get predicted prices on validation data\n",
    "val_predictions = forest_model.predict(OH_X_valid)\n",
    "print(mean_squared_error(y_valid, val_predictions, squared=False))"
   ]
  },
  {
   "cell_type": "code",
   "execution_count": 18,
   "metadata": {},
   "outputs": [
    {
     "data": {
      "text/html": [
       "<div>\n",
       "<style scoped>\n",
       "    .dataframe tbody tr th:only-of-type {\n",
       "        vertical-align: middle;\n",
       "    }\n",
       "\n",
       "    .dataframe tbody tr th {\n",
       "        vertical-align: top;\n",
       "    }\n",
       "\n",
       "    .dataframe thead th {\n",
       "        text-align: right;\n",
       "    }\n",
       "</style>\n",
       "<table border=\"1\" class=\"dataframe\">\n",
       "  <thead>\n",
       "    <tr style=\"text-align: right;\">\n",
       "      <th></th>\n",
       "      <th>latitude</th>\n",
       "      <th>longitude</th>\n",
       "      <th>number_of_reviews</th>\n",
       "      <th>availability_365</th>\n",
       "      <th>0</th>\n",
       "      <th>1</th>\n",
       "      <th>2</th>\n",
       "      <th>3</th>\n",
       "    </tr>\n",
       "  </thead>\n",
       "  <tbody>\n",
       "    <tr>\n",
       "      <th>156400</th>\n",
       "      <td>40.65025</td>\n",
       "      <td>-73.96200</td>\n",
       "      <td>1</td>\n",
       "      <td>0</td>\n",
       "      <td>1.0</td>\n",
       "      <td>0.0</td>\n",
       "      <td>0.0</td>\n",
       "      <td>0.0</td>\n",
       "    </tr>\n",
       "    <tr>\n",
       "      <th>217144</th>\n",
       "      <td>44.84968</td>\n",
       "      <td>-93.49724</td>\n",
       "      <td>21</td>\n",
       "      <td>322</td>\n",
       "      <td>1.0</td>\n",
       "      <td>0.0</td>\n",
       "      <td>0.0</td>\n",
       "      <td>0.0</td>\n",
       "    </tr>\n",
       "    <tr>\n",
       "      <th>177906</th>\n",
       "      <td>37.34048</td>\n",
       "      <td>-121.89127</td>\n",
       "      <td>78</td>\n",
       "      <td>0</td>\n",
       "      <td>0.0</td>\n",
       "      <td>0.0</td>\n",
       "      <td>1.0</td>\n",
       "      <td>0.0</td>\n",
       "    </tr>\n",
       "    <tr>\n",
       "      <th>90983</th>\n",
       "      <td>33.85659</td>\n",
       "      <td>-118.18763</td>\n",
       "      <td>1</td>\n",
       "      <td>0</td>\n",
       "      <td>0.0</td>\n",
       "      <td>0.0</td>\n",
       "      <td>1.0</td>\n",
       "      <td>0.0</td>\n",
       "    </tr>\n",
       "    <tr>\n",
       "      <th>194386</th>\n",
       "      <td>37.79418</td>\n",
       "      <td>-122.40582</td>\n",
       "      <td>11</td>\n",
       "      <td>59</td>\n",
       "      <td>0.0</td>\n",
       "      <td>0.0</td>\n",
       "      <td>0.0</td>\n",
       "      <td>1.0</td>\n",
       "    </tr>\n",
       "  </tbody>\n",
       "</table>\n",
       "</div>"
      ],
      "text/plain": [
       "        latitude  longitude  number_of_reviews  availability_365    0    1  \\\n",
       "156400  40.65025  -73.96200                  1                 0  1.0  0.0   \n",
       "217144  44.84968  -93.49724                 21               322  1.0  0.0   \n",
       "177906  37.34048 -121.89127                 78                 0  0.0  0.0   \n",
       "90983   33.85659 -118.18763                  1                 0  0.0  0.0   \n",
       "194386  37.79418 -122.40582                 11                59  0.0  0.0   \n",
       "\n",
       "          2    3  \n",
       "156400  0.0  0.0  \n",
       "217144  0.0  0.0  \n",
       "177906  1.0  0.0  \n",
       "90983   1.0  0.0  \n",
       "194386  0.0  1.0  "
      ]
     },
     "execution_count": 18,
     "metadata": {},
     "output_type": "execute_result"
    }
   ],
   "source": [
    "OH_X_train.head()"
   ]
  },
  {
   "cell_type": "markdown",
   "metadata": {},
   "source": [
    "## Random Forest"
   ]
  },
  {
   "cell_type": "code",
   "execution_count": 22,
   "metadata": {},
   "outputs": [
    {
     "name": "stdout",
     "output_type": "stream",
     "text": [
      "RMSE:  521.9578320267169\n"
     ]
    }
   ],
   "source": [
    "features = ['latitude', 'longitude','number_of_reviews','availability_365']\n",
    "X = df[features]\n",
    "y = df['price']\n",
    "train_X, val_X, train_y, val_y = train_test_split(X, y, random_state = 1)\n",
    "\n",
    "forest_model = RandomForestRegressor(n_estimators=500, random_state=1)\n",
    "forest_model.fit(train_X, train_y)\n",
    "\n",
    "# get predicted prices on validation data\n",
    "val_predictions = forest_model.predict(val_X)\n",
    "print(\"RMSE: \", mean_squared_error(val_y, val_predictions, squared=False))"
   ]
  },
  {
   "cell_type": "code",
   "execution_count": 20,
   "metadata": {},
   "outputs": [
    {
     "name": "stdout",
     "output_type": "stream",
     "text": [
      "169522\n"
     ]
    },
    {
     "data": {
      "text/plain": [
       "56508"
      ]
     },
     "execution_count": 20,
     "metadata": {},
     "output_type": "execute_result"
    }
   ],
   "source": [
    "print(len(train_X))\n",
    "len(val_X)\n"
   ]
  },
  {
   "cell_type": "code",
   "execution_count": 18,
   "metadata": {},
   "outputs": [
    {
     "data": {
      "text/html": [
       "<div>\n",
       "<style scoped>\n",
       "    .dataframe tbody tr th:only-of-type {\n",
       "        vertical-align: middle;\n",
       "    }\n",
       "\n",
       "    .dataframe tbody tr th {\n",
       "        vertical-align: top;\n",
       "    }\n",
       "\n",
       "    .dataframe thead th {\n",
       "        text-align: right;\n",
       "    }\n",
       "</style>\n",
       "<table border=\"1\" class=\"dataframe\">\n",
       "  <thead>\n",
       "    <tr style=\"text-align: right;\">\n",
       "      <th></th>\n",
       "      <th>latitude</th>\n",
       "      <th>longitude</th>\n",
       "      <th>number_of_reviews</th>\n",
       "      <th>availability_365</th>\n",
       "      <th>val_Y</th>\n",
       "      <th>pred</th>\n",
       "    </tr>\n",
       "  </thead>\n",
       "  <tbody>\n",
       "    <tr>\n",
       "      <th>47143</th>\n",
       "      <td>39.77483</td>\n",
       "      <td>-105.01853</td>\n",
       "      <td>35</td>\n",
       "      <td>49</td>\n",
       "      <td>74</td>\n",
       "      <td>100.76</td>\n",
       "    </tr>\n",
       "    <tr>\n",
       "      <th>208534</th>\n",
       "      <td>47.52861</td>\n",
       "      <td>-122.28640</td>\n",
       "      <td>9</td>\n",
       "      <td>0</td>\n",
       "      <td>150</td>\n",
       "      <td>108.72</td>\n",
       "    </tr>\n",
       "    <tr>\n",
       "      <th>10355</th>\n",
       "      <td>30.21957</td>\n",
       "      <td>-97.96737</td>\n",
       "      <td>0</td>\n",
       "      <td>110</td>\n",
       "      <td>267</td>\n",
       "      <td>505.48</td>\n",
       "    </tr>\n",
       "    <tr>\n",
       "      <th>33845</th>\n",
       "      <td>41.79013</td>\n",
       "      <td>-87.63282</td>\n",
       "      <td>0</td>\n",
       "      <td>352</td>\n",
       "      <td>29</td>\n",
       "      <td>398.64</td>\n",
       "    </tr>\n",
       "    <tr>\n",
       "      <th>73275</th>\n",
       "      <td>33.84565</td>\n",
       "      <td>-118.19476</td>\n",
       "      <td>11</td>\n",
       "      <td>169</td>\n",
       "      <td>299</td>\n",
       "      <td>170.89</td>\n",
       "    </tr>\n",
       "  </tbody>\n",
       "</table>\n",
       "</div>"
      ],
      "text/plain": [
       "        latitude  longitude  number_of_reviews  availability_365  val_Y  \\\n",
       "47143   39.77483 -105.01853                 35                49     74   \n",
       "208534  47.52861 -122.28640                  9                 0    150   \n",
       "10355   30.21957  -97.96737                  0               110    267   \n",
       "33845   41.79013  -87.63282                  0               352     29   \n",
       "73275   33.84565 -118.19476                 11               169    299   \n",
       "\n",
       "          pred  \n",
       "47143   100.76  \n",
       "208534  108.72  \n",
       "10355   505.48  \n",
       "33845   398.64  \n",
       "73275   170.89  "
      ]
     },
     "execution_count": 18,
     "metadata": {},
     "output_type": "execute_result"
    }
   ],
   "source": [
    "val_X['val_Y'] = val_y\n",
    "val_X['pred'] = val_predictions\n",
    "val_X.head()"
   ]
  },
  {
   "cell_type": "code",
   "execution_count": 24,
   "metadata": {},
   "outputs": [
    {
     "name": "stdout",
     "output_type": "stream",
     "text": [
      "RMSE: 577.0233587178686\n"
     ]
    }
   ],
   "source": [
    "from sklearn.neural_network import MLPRegressor\n",
    "\n",
    "regr = MLPRegressor(random_state=1, max_iter=1000).fit(OH_X_train, y_train)\n",
    "predictions = regr.predict(OH_X_valid)\n",
    "print(\"RMSE: \" + str(mean_squared_error(predictions, y_valid, squared=False)))\n",
    "\n"
   ]
  },
  {
   "cell_type": "markdown",
   "metadata": {},
   "source": [
    "### K-fold validation"
   ]
  },
  {
   "cell_type": "code",
   "execution_count": null,
   "metadata": {},
   "outputs": [],
   "source": [
    "features = ['latitude', 'longitude','number_of_reviews','availability_365']\n",
    "X = df[features]\n",
    "y = df['price']\n",
    "\n",
    "my_pipeline = Pipeline(steps=[('preprocessor', SimpleImputer()),\n",
    "                              ('model', RandomForestRegressor(n_estimators=100,\n",
    "                                                              random_state=0))\n",
    "                             ])\n",
    "\n",
    "from sklearn.model_selection import cross_val_score\n",
    "\n",
    "# Multiply by -1 since sklearn calculates *negative* MAE\n",
    "scores = -1 * cross_val_score(my_pipeline, X, y,\n",
    "                              cv=5,\n",
    "                              scoring='neg_mean_squared_error')\n",
    "import math\n",
    "for i, score in enumerate(scores):\n",
    "    scores[i] = math.sqrt(score)\n",
    "    \n",
    "print(\"RMSE scores:\\n\", scores)\n",
    "print(scores.mean())"
   ]
  },
  {
   "cell_type": "markdown",
   "metadata": {},
   "source": [
    "# Introduction\n",
    "\n",
    "This paper explores prediction of price of a U.S Airbnb listing. The dataset used is Kaggle's \"U.S Airbnb Open Data\".\n"
   ]
  },
  {
   "cell_type": "code",
   "execution_count": 29,
   "metadata": {},
   "outputs": [
    {
     "data": {
      "image/png": "[encoded data removed]",
      "text/plain": [
       "<Figure size 1800x1224 with 6 Axes>"
      ]
     },
     "metadata": {
      "needs_background": "light"
     },
     "output_type": "display_data"
    }
   ],
   "source": [
    "fig, axes = plt.subplots(nrows=2, ncols=3)\n",
    "fig.set_figheight(17)\n",
    "fig.set_figwidth(25)\n",
    "numerical_variables = ['price', 'minimum_nights', 'number_of_reviews', 'reviews_per_month', 'calculated_host_listings_count', 'availability_365']\n",
    "current_col = 0\n",
    "for row in axes:\n",
    "    for col in row:\n",
    "        df[numerical_variables[current_col]].plot(kind='density', ax=col)\n",
    "        col.set_title(numerical_variables[current_col] +' Distribution',fontsize=16,fontweight='bold')\n",
    "        current_col += 1"
   ]
  },
  {
   "cell_type": "code",
   "execution_count": 31,
   "metadata": {},
   "outputs": [
    {
     "data": {
      "text/plain": [
       "<matplotlib.axes._subplots.AxesSubplot at 0x7fbacca444c0>"
      ]
     },
     "execution_count": 31,
     "metadata": {},
     "output_type": "execute_result"
    },
    {
     "data": {
      "image/png": "[encoded data removed]",
      "text/plain": [
       "<Figure size 432x288 with 1 Axes>"
      ]
     },
     "metadata": {
      "needs_background": "light"
     },
     "output_type": "display_data"
    }
   ],
   "source": [
    "# Outlier Removal\n",
    "\n",
    "upper_bound, lower_bound = 0.75, 0.25\n",
    "iqr = df[df['price'].between(df['price'].quantile(lower_bound),df['price'].quantile(upper_bound), inclusive=True)]\n",
    "iqr = iqr[iqr['number_of_reviews'] > 0]\n",
    "iqr = iqr[iqr['calculated_host_listings_count'] < 10]\n",
    "iqr = iqr[iqr['number_of_reviews'] < 200]\n",
    "iqr = iqr[iqr['minimum_nights'] < 10]\n",
    "iqr = iqr[iqr['reviews_per_month'] < 5]\n",
    "df['price'].plot(kind='kde')"
   ]
  },
  {
   "cell_type": "code",
   "execution_count": 34,
   "metadata": {},
   "outputs": [
    {
     "ename": "ValueError",
     "evalue": "plot kind scatter can only be used for data frames",
     "output_type": "error",
     "traceback": [
      "\u001b[0;31m---------------------------------------------------------------------------\u001b[0m",
      "\u001b[0;31mValueError\u001b[0m                                Traceback (most recent call last)",
      "\u001b[0;32m<ipython-input-34-3be1d5389145>\u001b[0m in \u001b[0;36m<module>\u001b[0;34m\u001b[0m\n\u001b[0;32m----> 1\u001b[0;31m \u001b[0mdf\u001b[0m\u001b[0;34m[\u001b[0m\u001b[0;34m'price'\u001b[0m\u001b[0;34m]\u001b[0m\u001b[0;34m.\u001b[0m\u001b[0mplot\u001b[0m\u001b[0;34m(\u001b[0m\u001b[0mdata\u001b[0m\u001b[0;34m=\u001b[0m\u001b[0mdf\u001b[0m\u001b[0;34m,\u001b[0m \u001b[0mkind\u001b[0m\u001b[0;34m=\u001b[0m\u001b[0;34m'scatter'\u001b[0m\u001b[0;34m)\u001b[0m\u001b[0;34m\u001b[0m\u001b[0;34m\u001b[0m\u001b[0m\n\u001b[0m",
      "\u001b[0;32m~/opt/anaconda3/lib/python3.8/site-packages/pandas/plotting/_core.py\u001b[0m in \u001b[0;36m__call__\u001b[0;34m(self, *args, **kwargs)\u001b[0m\n\u001b[1;32m    792\u001b[0m                 \u001b[0;32mreturn\u001b[0m \u001b[0mplot_backend\u001b[0m\u001b[0;34m.\u001b[0m\u001b[0mplot\u001b[0m\u001b[0;34m(\u001b[0m\u001b[0mdata\u001b[0m\u001b[0;34m,\u001b[0m \u001b[0mx\u001b[0m\u001b[0;34m=\u001b[0m\u001b[0mx\u001b[0m\u001b[0;34m,\u001b[0m \u001b[0my\u001b[0m\u001b[0;34m=\u001b[0m\u001b[0my\u001b[0m\u001b[0;34m,\u001b[0m \u001b[0mkind\u001b[0m\u001b[0;34m=\u001b[0m\u001b[0mkind\u001b[0m\u001b[0;34m,\u001b[0m \u001b[0;34m**\u001b[0m\u001b[0mkwargs\u001b[0m\u001b[0;34m)\u001b[0m\u001b[0;34m\u001b[0m\u001b[0;34m\u001b[0m\u001b[0m\n\u001b[1;32m    793\u001b[0m             \u001b[0;32melse\u001b[0m\u001b[0;34m:\u001b[0m\u001b[0;34m\u001b[0m\u001b[0;34m\u001b[0m\u001b[0m\n\u001b[0;32m--> 794\u001b[0;31m                 \u001b[0;32mraise\u001b[0m \u001b[0mValueError\u001b[0m\u001b[0;34m(\u001b[0m\u001b[0;34mf\"plot kind {kind} can only be used for data frames\"\u001b[0m\u001b[0;34m)\u001b[0m\u001b[0;34m\u001b[0m\u001b[0;34m\u001b[0m\u001b[0m\n\u001b[0m\u001b[1;32m    795\u001b[0m         \u001b[0;32melif\u001b[0m \u001b[0mkind\u001b[0m \u001b[0;32min\u001b[0m \u001b[0mself\u001b[0m\u001b[0;34m.\u001b[0m\u001b[0m_series_kinds\u001b[0m\u001b[0;34m:\u001b[0m\u001b[0;34m\u001b[0m\u001b[0;34m\u001b[0m\u001b[0m\n\u001b[1;32m    796\u001b[0m             \u001b[0;32mif\u001b[0m \u001b[0misinstance\u001b[0m\u001b[0;34m(\u001b[0m\u001b[0mdata\u001b[0m\u001b[0;34m,\u001b[0m \u001b[0mABCDataFrame\u001b[0m\u001b[0;34m)\u001b[0m\u001b[0;34m:\u001b[0m\u001b[0;34m\u001b[0m\u001b[0;34m\u001b[0m\u001b[0m\n",
      "\u001b[0;31mValueError\u001b[0m: plot kind scatter can only be used for data frames"
     ]
    }
   ],
   "source": []
  },
  {
   "cell_type": "markdown",
   "metadata": {},
   "source": [
    "# Citations\n",
    "\n",
    "1) Kaggle Courses: \"Introduction to Machine Learning\" and \"Intermediate Machine Learning\". Code is referenced from here. "
   ]
  }
 ],
 "metadata": {
  "kernelspec": {
   "display_name": "Python 3",
   "language": "python",
   "name": "python3"
  },
  "language_info": {
   "codemirror_mode": {
    "name": "ipython",
    "version": 3
   },
   "file_extension": ".py",
   "mimetype": "text/x-python",
   "name": "python",
   "nbconvert_exporter": "python",
   "pygments_lexer": "ipython3",
   "version": "3.8.3"
  }
 },
 "nbformat": 4,
 "nbformat_minor": 4
}
